{
 "cells": [
  {
   "cell_type": "markdown",
   "metadata": {},
   "source": [
    "# FZ with OpenModelica\n",
    "\n",
    "This notebook demonstrates using FZ with OpenModelica for parametric simulations of dynamic systems.\n",
    "\n",
    "[![Open In Colab](https://colab.research.google.com/assets/colab-badge.svg)](https://colab.research.google.com/github/Funz/fz.github.io/blob/main/notebooks/modelica_example.ipynb)"
   ]
  },
  {
   "cell_type": "markdown",
   "metadata": {},
   "source": [
    "## Install OpenModelica and FZ"
   ]
  },
  {
   "cell_type": "code",
   "execution_count": null,
   "metadata": {},
   "outputs": [],
   "source": [
    "# Install OpenModelica\n",
    "!apt-get update -qq\n",
    "!apt-get install -y omc > /dev/null 2>&1\n",
    "\n",
    "# Install FZ\n",
    "!pip install git+https://github.com/Funz/fz.git -q\n",
    "\n",
    "print(\"✓ Installation complete\")"
   ]
  },
  {
   "cell_type": "markdown",
   "metadata": {},
   "source": [
    "## Create Modelica Model\n",
    "\n",
    "We'll create a simple harmonic oscillator with parametric damping and frequency:"
   ]
  },
  {
   "cell_type": "code",
   "execution_count": null,
   "metadata": {},
   "outputs": [],
   "source": [
    "%%writefile Oscillator.mo\n",
    "model Oscillator\n",
    "  parameter Real omega = $omega;  // Natural frequency (rad/s)\n",
    "  parameter Real zeta = $zeta;    // Damping ratio\n",
    "  \n",
    "  Real x(start=1.0);  // Position\n",
    "  Real v(start=0.0);  // Velocity\n",
    "  \n",
    "equation\n",
    "  der(x) = v;\n",
    "  der(v) = -omega^2 * x - 2*zeta*omega*v;\n",
    "end Oscillator;"
   ]
  },
  {
   "cell_type": "markdown",
   "metadata": {},
   "source": [
    "## Create Simulation Script\n",
    "\n",
    "This script compiles and runs the Modelica model:"
   ]
  },
  {
   "cell_type": "code",
   "execution_count": null,
   "metadata": {},
   "outputs": [],
   "source": [
    "%%writefile simulate.sh\n",
    "#!/bin/bash\n",
    "\n",
    "# Source input to get parameters\n",
    "source $1\n",
    "\n",
    "# Compile and simulate Modelica model\n",
    "omc << EOF\n",
    "loadFile(\"Oscillator.mo\");\n",
    "buildModel(Oscillator);\n",
    "quit();\n",
    "EOF\n",
    "\n",
    "# Run simulation with parameters\n",
    "./Oscillator -override omega=$omega,zeta=$zeta > /dev/null 2>&1\n",
    "\n",
    "# Extract peak overshoot from results\n",
    "python3 << PYEOF\n",
    "import csv\n",
    "import os\n",
    "\n",
    "# Read CSV results\n",
    "if os.path.exists('Oscillator_res.csv'):\n",
    "    with open('Oscillator_res.csv', 'r') as f:\n",
    "        reader = csv.reader(f)\n",
    "        data = list(reader)\n",
    "        # Find position column (x)\n",
    "        header = data[0]\n",
    "        x_idx = header.index('x')\n",
    "        x_values = [float(row[x_idx]) for row in data[1:] if row[x_idx]]\n",
    "        peak = max(abs(x) for x in x_values)\n",
    "        print(f\"peak_overshoot = {peak}\")\n",
    "else:\n",
    "    print(\"peak_overshoot = 0\")\n",
    "PYEOF\n",
    "\n",
    "echo \"Simulation complete\""
   ]
  },
  {
   "cell_type": "code",
   "execution_count": null,
   "metadata": {},
   "outputs": [],
   "source": [
    "!chmod +x simulate.sh"
   ]
  },
  {
   "cell_type": "markdown",
   "metadata": {},
   "source": [
    "## Create Input Template"
   ]
  },
  {
   "cell_type": "code",
   "execution_count": null,
   "metadata": {},
   "outputs": [],
   "source": [
    "%%writefile input.txt\n",
    "omega=$omega\n",
    "zeta=$zeta"
   ]
  },
  {
   "cell_type": "markdown",
   "metadata": {},
   "source": [
    "## Run Parametric Study\n",
    "\n",
    "Study how damping ratio and frequency affect the system response:"
   ]
  },
  {
   "cell_type": "code",
   "execution_count": null,
   "metadata": {},
   "outputs": [],
   "source": [
    "import fz\n",
    "\n",
    "# Define FZ model\n",
    "model = {\n",
    "    \"varprefix\": \"$\",\n",
    "    \"output\": {\n",
    "        \"peak_overshoot\": \"grep 'peak_overshoot = ' *.txt 2>/dev/null | awk '{print $3}' || echo 0\"\n",
    "    }\n",
    "}\n",
    "\n",
    "# Parameter ranges\n",
    "input_variables = {\n",
    "    \"omega\": [1, 2, 5, 10],          # 4 frequencies\n",
    "    \"zeta\": [0.1, 0.3, 0.5, 0.7, 1.0] # 5 damping ratios\n",
    "}\n",
    "\n",
    "# Run parametric study\n",
    "results = fz.fzr(\n",
    "    \"input.txt\",\n",
    "    input_variables,\n",
    "    model,\n",
    "    calculators=\"sh://bash simulate.sh\",\n",
    "    results_dir=\"oscillator_results\"\n",
    ")\n",
    "\n",
    "print(f\"\\nCompleted {len(results)} simulations\")\n",
    "results"
   ]
  },
  {
   "cell_type": "markdown",
   "metadata": {},
   "source": [
    "## Visualize Results\n",
    "\n",
    "Create a heatmap showing peak overshoot for different damping and frequency values:"
   ]
  },
  {
   "cell_type": "code",
   "execution_count": null,
   "metadata": {},
   "outputs": [],
   "source": [
    "import matplotlib.pyplot as plt\n",
    "import seaborn as sns\n",
    "\n",
    "# Create pivot table\n",
    "pivot = results.pivot(index='zeta', columns='omega', values='peak_overshoot')\n",
    "\n",
    "plt.figure(figsize=(10, 6))\n",
    "sns.heatmap(pivot, annot=True, fmt='.2f', cmap='RdYlGn_r', cbar_kws={'label': 'Peak Overshoot'})\n",
    "plt.title('Oscillator Response: Peak Overshoot vs Damping and Frequency')\n",
    "plt.xlabel('Natural Frequency ω (rad/s)')\n",
    "plt.ylabel('Damping Ratio ζ')\n",
    "plt.tight_layout()\n",
    "plt.show()"
   ]
  },
  {
   "cell_type": "markdown",
   "metadata": {},
   "source": [
    "## Analysis\n",
    "\n",
    "Analyze the relationship between damping and overshoot:"
   ]
  },
  {
   "cell_type": "code",
   "execution_count": null,
   "metadata": {},
   "outputs": [],
   "source": [
    "# Plot overshoot vs damping for each frequency\n",
    "plt.figure(figsize=(10, 6))\n",
    "\n",
    "for omega in sorted(results['omega'].unique()):\n",
    "    data = results[results['omega'] == omega].sort_values('zeta')\n",
    "    plt.plot(data['zeta'], data['peak_overshoot'], \n",
    "             marker='o', label=f'ω = {omega} rad/s')\n",
    "\n",
    "plt.xlabel('Damping Ratio ζ')\n",
    "plt.ylabel('Peak Overshoot')\n",
    "plt.title('Effect of Damping on Peak Overshoot')\n",
    "plt.legend()\n",
    "plt.grid(True)\n",
    "plt.show()\n",
    "\n",
    "# Find optimal damping (minimum overshoot)\n",
    "for omega in sorted(results['omega'].unique()):\n",
    "    data = results[results['omega'] == omega]\n",
    "    best = data.loc[data['peak_overshoot'].idxmin()]\n",
    "    print(f\"ω={omega}: Optimal ζ={best['zeta']}, Peak={best['peak_overshoot']:.3f}\")"
   ]
  },
  {
   "cell_type": "markdown",
   "metadata": {},
   "source": [
    "## Next Steps\n",
    "\n",
    "Try these extensions:\n",
    "\n",
    "1. **Different initial conditions**: Vary `x(start)` and `v(start)`\n",
    "2. **Forced oscillations**: Add external forcing term\n",
    "3. **Nonlinear systems**: Add nonlinear damping or stiffness\n",
    "4. **Multi-DOF systems**: Extend to coupled oscillators\n",
    "\n",
    "## Learn More\n",
    "\n",
    "- [FZ Documentation](https://funz.github.io)\n",
    "- [OpenModelica](https://openmodelica.org/)\n",
    "- [More Examples](https://funz.github.io/examples/)"
   ]
  }
 ],
 "metadata": {
  "kernelspec": {
   "display_name": "Python 3",
   "language": "python",
   "name": "python3"
  },
  "language_info": {
   "codemirror_mode": {
    "name": "ipython",
    "version": 3
   },
   "file_extension": ".py",
   "mimetype": "text/x-python",
   "name": "python",
   "nbconvert_exporter": "python",
   "pygments_lexer": "ipython3",
   "version": "3.8.0"
  }
 },
 "nbformat": 4,
 "nbformat_minor": 4
}
