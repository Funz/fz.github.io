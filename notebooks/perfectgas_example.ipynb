{
 "cells": [
  {
   "cell_type": "markdown",
   "metadata": {},
   "source": [
    "# FZ Perfect Gas Example\n",
    "\n",
    "This notebook demonstrates using FZ for parametric studies with the ideal gas law.\n",
    "\n",
    "[![Open In Colab](https://colab.research.google.com/assets/colab-badge.svg)](https://colab.research.google.com/github/Funz/fz.github.io/blob/main/notebooks/perfectgas_example.ipynb)"
   ]
  },
  {
   "cell_type": "markdown",
   "metadata": {},
   "source": [
    "## Install FZ\n",
    "\n",
    "First, install FZ from GitHub:"
   ]
  },
  {
   "cell_type": "code",
   "execution_count": null,
   "metadata": {},
   "outputs": [],
   "source": [
    "!pip install git+https://github.com/Funz/fz.git"
   ]
  },
  {
   "cell_type": "markdown",
   "metadata": {},
   "source": [
    "## Create Input Template\n",
    "\n",
    "Create an input file with variables and formulas:"
   ]
  },
  {
   "cell_type": "code",
   "execution_count": null,
   "metadata": {},
   "outputs": [],
   "source": [
    "%%writefile input.txt\n",
    "# input file for Perfect Gas Pressure\n",
    "n_mol=$n_mol\n",
    "T_kelvin=@($T_celsius + 273.15)\n",
    "#@ def L_to_m3(L):\n",
    "#@     return(L / 1000)\n",
    "V_m3=@(L_to_m3($V_L))"
   ]
  },
  {
   "cell_type": "markdown",
   "metadata": {},
   "source": [
    "## Create Calculation Script\n",
    "\n",
    "Create a bash script to calculate pressure using the ideal gas law:"
   ]
  },
  {
   "cell_type": "code",
   "execution_count": null,
   "metadata": {},
   "outputs": [],
   "source": [
    "%%writefile calculate.sh\n",
    "#!/bin/bash\n",
    "\n",
    "# Read input file\n",
    "source $1\n",
    "\n",
    "# Calculate pressure using ideal gas law\n",
    "# P = nRT/V where R = 8.314 J/(mol·K)\n",
    "pressure=$(echo \"scale=4; $n_mol * 8.314 * $T_kelvin / $V_m3\" | bc)\n",
    "\n",
    "# Write output\n",
    "echo \"pressure = $pressure\" > output.txt\n",
    "\n",
    "echo \"Done\""
   ]
  },
  {
   "cell_type": "code",
   "execution_count": null,
   "metadata": {},
   "outputs": [],
   "source": [
    "!chmod +x calculate.sh"
   ]
  },
  {
   "cell_type": "markdown",
   "metadata": {},
   "source": [
    "## Run Parametric Study\n",
    "\n",
    "Use FZ to run all combinations of parameters:"
   ]
  },
  {
   "cell_type": "code",
   "execution_count": null,
   "metadata": {},
   "outputs": [],
   "source": [
    "import fz\n",
    "\n",
    "# Define the model\n",
    "model = {\n",
    "    \"varprefix\": \"$\",\n",
    "    \"formulaprefix\": \"@\",\n",
    "    \"delim\": \"()\",\n",
    "    \"commentline\": \"#\",\n",
    "    \"output\": {\n",
    "        \"pressure\": \"grep 'pressure = ' output.txt | awk '{print $3}'\"\n",
    "    }\n",
    "}\n",
    "\n",
    "# Define parameter values\n",
    "input_variables = {\n",
    "    \"T_celsius\": [10, 20, 30, 40],  # 4 temperatures\n",
    "    \"V_L\": [1, 2, 5],                # 3 volumes\n",
    "    \"n_mol\": 1.0                     # fixed amount\n",
    "}\n",
    "\n",
    "# Run all combinations (4 × 3 = 12 cases)\n",
    "results = fz.fzr(\n",
    "    \"input.txt\",\n",
    "    input_variables,\n",
    "    model,\n",
    "    calculators=\"sh://bash calculate.sh\",\n",
    "    results_dir=\"results\"\n",
    ")\n",
    "\n",
    "# Display results\n",
    "print(f\"\\nCompleted {len(results)} calculations\")\n",
    "results"
   ]
  },
  {
   "cell_type": "markdown",
   "metadata": {},
   "source": [
    "## Visualize Results\n",
    "\n",
    "Plot pressure vs temperature for different volumes:"
   ]
  },
  {
   "cell_type": "code",
   "execution_count": null,
   "metadata": {},
   "outputs": [],
   "source": [
    "import matplotlib.pyplot as plt\n",
    "\n",
    "plt.figure(figsize=(10, 6))\n",
    "\n",
    "for volume in sorted(results['V_L'].unique()):\n",
    "    data = results[results['V_L'] == volume]\n",
    "    plt.plot(data['T_celsius'], data['pressure'],\n",
    "             marker='o', label=f'V={volume} L')\n",
    "\n",
    "plt.xlabel('Temperature (°C)')\n",
    "plt.ylabel('Pressure (Pa)')\n",
    "plt.title('Ideal Gas: Pressure vs Temperature')\n",
    "plt.legend()\n",
    "plt.grid(True)\n",
    "plt.show()"
   ]
  },
  {
   "cell_type": "markdown",
   "metadata": {},
   "source": [
    "## Statistical Analysis\n",
    "\n",
    "Analyze the results:"
   ]
  },
  {
   "cell_type": "code",
   "execution_count": null,
   "metadata": {},
   "outputs": [],
   "source": [
    "# Summary statistics\n",
    "print(\"Summary Statistics:\")\n",
    "print(results[['T_celsius', 'V_L', 'pressure']].describe())\n",
    "\n",
    "# Group by volume\n",
    "print(\"\\nAverage Pressure by Volume:\")\n",
    "print(results.groupby('V_L')['pressure'].mean())"
   ]
  },
  {
   "cell_type": "markdown",
   "metadata": {},
   "source": [
    "## Download Results\n",
    "\n",
    "Save and download the results:"
   ]
  },
  {
   "cell_type": "code",
   "execution_count": null,
   "metadata": {},
   "outputs": [],
   "source": [
    "# Save to CSV\n",
    "results.to_csv('perfectgas_results.csv', index=False)\n",
    "\n",
    "# Download (in Colab)\n",
    "from google.colab import files\n",
    "files.download('perfectgas_results.csv')"
   ]
  },
  {
   "cell_type": "markdown",
   "metadata": {},
   "source": [
    "## Next Steps\n",
    "\n",
    "- Try modifying the parameter ranges\n",
    "- Add more variables to study\n",
    "- Explore [FZ plugins](https://funz.github.io/plugins/)\n",
    "- Check out [more examples](https://funz.github.io/examples/)"
   ]
  }
 ],
 "metadata": {
  "kernelspec": {
   "display_name": "Python 3",
   "language": "python",
   "name": "python3"
  },
  "language_info": {
   "codemirror_mode": {
    "name": "ipython",
    "version": 3
   },
   "file_extension": ".py",
   "mimetype": "text/x-python",
   "name": "python",
   "nbconvert_exporter": "python",
   "pygments_lexer": "ipython3",
   "version": "3.8.0"
  }
 },
 "nbformat": 4,
 "nbformat_minor": 4
}
